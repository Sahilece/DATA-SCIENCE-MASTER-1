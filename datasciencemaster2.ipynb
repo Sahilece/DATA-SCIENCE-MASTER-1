{
 "cells": [
  {
   "cell_type": "markdown",
   "id": "4245311e-cb6e-4d6d-bebe-3fff7a4b0c8e",
   "metadata": {},
   "source": [
    "### logical operators\n",
    "1.and\n",
    "2.or\n",
    "3.not"
   ]
  },
  {
   "cell_type": "code",
   "execution_count": 3,
   "id": "6508ee62-17db-4c03-98d7-9561f4915cb5",
   "metadata": {},
   "outputs": [
    {
     "data": {
      "text/plain": [
       "True"
      ]
     },
     "execution_count": 3,
     "metadata": {},
     "output_type": "execute_result"
    }
   ],
   "source": [
    "True and True"
   ]
  },
  {
   "cell_type": "code",
   "execution_count": 5,
   "id": "b4f190ca-bae0-4305-9480-e8453597bdf5",
   "metadata": {},
   "outputs": [
    {
     "data": {
      "text/plain": [
       "True"
      ]
     },
     "execution_count": 5,
     "metadata": {},
     "output_type": "execute_result"
    }
   ],
   "source": [
    "True or False"
   ]
  },
  {
   "cell_type": "code",
   "execution_count": 6,
   "id": "c7f44b60-7737-4e3f-bc7e-9b0f5791acd4",
   "metadata": {},
   "outputs": [
    {
     "data": {
      "text/plain": [
       "False"
      ]
     },
     "execution_count": 6,
     "metadata": {},
     "output_type": "execute_result"
    }
   ],
   "source": [
    "not (True)"
   ]
  },
  {
   "cell_type": "code",
   "execution_count": 9,
   "id": "a918f5d2-a114-4ce9-a156-6c2e90f49c63",
   "metadata": {},
   "outputs": [
    {
     "data": {
      "text/plain": [
       "True"
      ]
     },
     "execution_count": 9,
     "metadata": {},
     "output_type": "execute_result"
    }
   ],
   "source": [
    " not int(bool(0))"
   ]
  },
  {
   "cell_type": "code",
   "execution_count": 30,
   "id": "12383044-275f-45d6-9965-6cb556f603c3",
   "metadata": {},
   "outputs": [
    {
     "data": {
      "text/plain": [
       "False"
      ]
     },
     "execution_count": 30,
     "metadata": {},
     "output_type": "execute_result"
    }
   ],
   "source": [
    " not int(bool(1))"
   ]
  },
  {
   "cell_type": "code",
   "execution_count": 14,
   "id": "65e348ef-d114-4236-a1b7-ee2ad66387c5",
   "metadata": {},
   "outputs": [
    {
     "data": {
      "text/plain": [
       "False"
      ]
     },
     "execution_count": 14,
     "metadata": {},
     "output_type": "execute_result"
    }
   ],
   "source": [
    "not 2"
   ]
  },
  {
   "cell_type": "code",
   "execution_count": 15,
   "id": "f2824814-3e2f-459c-8aaa-82a4e375c77d",
   "metadata": {},
   "outputs": [
    {
     "data": {
      "text/plain": [
       "False"
      ]
     },
     "execution_count": 15,
     "metadata": {},
     "output_type": "execute_result"
    }
   ],
   "source": [
    "not 1000"
   ]
  },
  {
   "cell_type": "code",
   "execution_count": 16,
   "id": "c8a814d3-dcbe-476e-a91d-891cd4204576",
   "metadata": {},
   "outputs": [
    {
     "data": {
      "text/plain": [
       "False"
      ]
     },
     "execution_count": 16,
     "metadata": {},
     "output_type": "execute_result"
    }
   ],
   "source": [
    "not -1"
   ]
  },
  {
   "cell_type": "code",
   "execution_count": 29,
   "id": "73370790-060c-470a-af8e-a64cf762f94e",
   "metadata": {},
   "outputs": [
    {
     "name": "stdout",
     "output_type": "stream",
     "text": [
      "boolean value of no.0 is False\n",
      "boolean value of no 1 is True\n",
      "negation of 0 is True and negation of 1 is False\n",
      "\n",
      "#--------------------------#\n",
      "\n"
     ]
    }
   ],
   "source": [
    "zero=0\n",
    "one =1\n",
    "print(f\"boolean value of no.{zero} is {bool(zero)}\")\n",
    "print(f\"boolean value of no {one} is {bool(one)}\")\n",
    "print(F\"negation of {zero} is {not zero} and negation of {one} is {not one}\")\n",
    "print(\"\\n#--------------------------#\\n\")\n"
   ]
  },
  {
   "cell_type": "code",
   "execution_count": 1,
   "id": "1c921354-8803-4e26-96e5-8f6659add8b9",
   "metadata": {},
   "outputs": [
    {
     "ename": "SyntaxError",
     "evalue": "unterminated string literal (detected at line 6) (3414954545.py, line 6)",
     "output_type": "error",
     "traceback": [
      "\u001b[0;36m  Cell \u001b[0;32mIn[1], line 6\u001b[0;36m\u001b[0m\n\u001b[0;31m    print(f\"negation of {some_negative_integer} is {not some_negative_integer}\u001b[0m\n\u001b[0m          ^\u001b[0m\n\u001b[0;31mSyntaxError\u001b[0m\u001b[0;31m:\u001b[0m unterminated string literal (detected at line 6)\n"
     ]
    }
   ],
   "source": [
    "some_negative_integer=-5\n",
    "some_positive_integer=5\n",
    "\n",
    "print(f\"boolean value of no.{some_negative_integer} is {bool(some_negative_integer)}\")\n",
    "print(f\"boolean value of no {some_positive_integer} is {bool(some_positive _integer)}\")\n",
    "print(f\"negation of {some_negative_integer} is {not some_negative_integer}\n",
    "      and negation of{some_positive_integer} is {not some_positive_integer}\")\n",
    "print(\"\\n#--------------------------#\\n\")\n"
   ]
  },
  {
   "cell_type": "markdown",
   "id": "b992416c-ac28-4ca6-8ef0-92280d8f2b90",
   "metadata": {},
   "source": [
    "### Logical And "
   ]
  },
  {
   "cell_type": "code",
   "execution_count": 3,
   "id": "3c5bb2c6-bcd6-4847-b123-bf227533143e",
   "metadata": {},
   "outputs": [
    {
     "name": "stdout",
     "output_type": "stream",
     "text": [
      "dish contains vegetables:True\n"
     ]
    },
    {
     "ename": "NameError",
     "evalue": "name 'salt' is not defined",
     "output_type": "error",
     "traceback": [
      "\u001b[0;31m---------------------------------------------------------------------------\u001b[0m",
      "\u001b[0;31mNameError\u001b[0m                                 Traceback (most recent call last)",
      "Cell \u001b[0;32mIn[3], line 7\u001b[0m\n\u001b[1;32m      3\u001b[0m dish \u001b[38;5;241m=\u001b[39mvegetables \u001b[38;5;129;01mand\u001b[39;00m slat \n\u001b[1;32m      6\u001b[0m \u001b[38;5;28mprint\u001b[39m(\u001b[38;5;124mf\u001b[39m\u001b[38;5;124m\"\u001b[39m\u001b[38;5;124mdish contains vegetables:\u001b[39m\u001b[38;5;132;01m{\u001b[39;00mvegetables\u001b[38;5;132;01m}\u001b[39;00m\u001b[38;5;124m\"\u001b[39m)\n\u001b[0;32m----> 7\u001b[0m \u001b[38;5;28mprint\u001b[39m(\u001b[38;5;124mf\u001b[39m\u001b[38;5;124m\"\u001b[39m\u001b[38;5;124mdish conatins salt:\u001b[39m\u001b[38;5;132;01m{\u001b[39;00m\u001b[43msalt\u001b[49m\u001b[38;5;132;01m}\u001b[39;00m\u001b[38;5;124m\"\u001b[39m)\n\u001b[1;32m      8\u001b[0m \u001b[38;5;28mprint\u001b[39m(\u001b[38;5;124mf\u001b[39m\u001b[38;5;124m\"\u001b[39m\u001b[38;5;124mhence dish prepared was good:\u001b[39m\u001b[38;5;132;01m{\u001b[39;00mdish\u001b[38;5;132;01m}\u001b[39;00m\u001b[38;5;124m\"\u001b[39m)\n",
      "\u001b[0;31mNameError\u001b[0m: name 'salt' is not defined"
     ]
    }
   ],
   "source": [
    "vegetables =True\n",
    "slat =False\n",
    "dish =vegetables and slat \n",
    "\n",
    "\n",
    "print(f\"dish contains vegetables:{vegetables}\")\n",
    "print(f\"dish conatins salt:{salt}\")\n",
    "print(f\"hence dish prepared was good:{dish}\")"
   ]
  },
  {
   "cell_type": "code",
   "execution_count": 5,
   "id": "cd8b88fd-bfc3-4271-9862-7d0248da8056",
   "metadata": {},
   "outputs": [
    {
     "data": {
      "text/plain": [
       "True"
      ]
     },
     "execution_count": 5,
     "metadata": {},
     "output_type": "execute_result"
    }
   ],
   "source": [
    "not(False)*True"
   ]
  },
  {
   "cell_type": "code",
   "execution_count": 7,
   "id": "00d8dc95-66be-4353-9c9b-365785caa0b8",
   "metadata": {},
   "outputs": [
    {
     "data": {
      "text/plain": [
       "0"
      ]
     },
     "execution_count": 7,
     "metadata": {},
     "output_type": "execute_result"
    }
   ],
   "source": [
    "False*(not(False))"
   ]
  },
  {
   "cell_type": "code",
   "execution_count": 2,
   "id": "8bf4906f-93de-4cd3-b7ef-e134206e2d02",
   "metadata": {},
   "outputs": [
    {
     "data": {
      "text/plain": [
       "True"
      ]
     },
     "execution_count": 2,
     "metadata": {},
     "output_type": "execute_result"
    }
   ],
   "source": [
    "not(True)*False\n",
    "## bodmash rule is follow"
   ]
  },
  {
   "cell_type": "code",
   "execution_count": 4,
   "id": "cc5566ca-2a43-46b5-aaff-a62b9204230a",
   "metadata": {},
   "outputs": [
    {
     "data": {
      "text/plain": [
       "7"
      ]
     },
     "execution_count": 4,
     "metadata": {},
     "output_type": "execute_result"
    }
   ],
   "source": [
    "(1+2)*3"
   ]
  },
  {
   "cell_type": "code",
   "execution_count": 6,
   "id": "7876ed08-1612-4118-b84b-cfacf3148a17",
   "metadata": {},
   "outputs": [
    {
     "data": {
      "text/plain": [
       "True"
      ]
     },
     "execution_count": 6,
     "metadata": {},
     "output_type": "execute_result"
    }
   ],
   "source": [
    "not(False)*False == True"
   ]
  },
  {
   "cell_type": "code",
   "execution_count": 8,
   "id": "46d9f556-7b17-4489-a19a-9adef911c3e5",
   "metadata": {},
   "outputs": [
    {
     "name": "stdout",
     "output_type": "stream",
     "text": [
      "0\n"
     ]
    }
   ],
   "source": [
    "print((not(False)) * False)"
   ]
  },
  {
   "cell_type": "code",
   "execution_count": 9,
   "id": "b69fd5d3-dfb4-4d61-9173-b68cbb68a2e0",
   "metadata": {},
   "outputs": [
    {
     "data": {
      "text/plain": [
       "0"
      ]
     },
     "execution_count": 9,
     "metadata": {},
     "output_type": "execute_result"
    }
   ],
   "source": [
    "False * True"
   ]
  },
  {
   "cell_type": "code",
   "execution_count": 11,
   "id": "cc440b27-5987-457d-a7a7-bd594ce51361",
   "metadata": {},
   "outputs": [
    {
     "data": {
      "text/plain": [
       "0"
      ]
     },
     "execution_count": 11,
     "metadata": {},
     "output_type": "execute_result"
    }
   ],
   "source": [
    "0*1"
   ]
  },
  {
   "cell_type": "code",
   "execution_count": 13,
   "id": "30dd2a9a-19d8-42b4-8b5a-30a5b25456b9",
   "metadata": {},
   "outputs": [
    {
     "data": {
      "text/plain": [
       "False"
      ]
     },
     "execution_count": 13,
     "metadata": {},
     "output_type": "execute_result"
    }
   ],
   "source": [
    "not(1)"
   ]
  },
  {
   "cell_type": "code",
   "execution_count": 19,
   "id": "e8e01f1b-c4ba-4b87-9dfa-574b170f0509",
   "metadata": {},
   "outputs": [
    {
     "data": {
      "text/plain": [
       "True"
      ]
     },
     "execution_count": 19,
     "metadata": {},
     "output_type": "execute_result"
    }
   ],
   "source": [
    "not False *True== True"
   ]
  },
  {
   "cell_type": "markdown",
   "id": "158241eb-c0e4-4a7d-b8cb-0e873841036e",
   "metadata": {},
   "source": [
    "### Equality operators\n",
    "\n",
    "\n",
    "operators \n",
    "\n",
    "\n",
    "is                          a is b retrurns true if variables /identifiers a and b points the same objects \n",
    "\n",
    "\n",
    "\n",
    "is not                      a is not b returns true if variables /identifiers a and b points the diffrent object\n",
    "\n",
    "\n",
    "\n",
    "==                          a ==b returns true if variables/identifiers a and b has same value \n",
    "\n",
    "\n",
    "!=                          a!=b returns true if variables/identifiers a and b has different values\n"
   ]
  },
  {
   "cell_type": "code",
   "execution_count": 23,
   "id": "aaf6c034-0847-4019-bbad-74763f5984e3",
   "metadata": {},
   "outputs": [],
   "source": [
    "lst_a=[1,2,3,4]\n",
    "lst_b=[1,2,3,4]"
   ]
  },
  {
   "cell_type": "code",
   "execution_count": 28,
   "id": "5c88d410-c157-40f5-b985-555870b28d3e",
   "metadata": {},
   "outputs": [
    {
     "name": "stdout",
     "output_type": "stream",
     "text": [
      "140539319512960\n",
      "140539331762432\n"
     ]
    }
   ],
   "source": [
    "print(id(lst_a))\n",
    "print(id(lst_b))"
   ]
  },
  {
   "cell_type": "code",
   "execution_count": 29,
   "id": "b998d414-579c-424d-9916-28991624563f",
   "metadata": {},
   "outputs": [
    {
     "data": {
      "text/plain": [
       "False"
      ]
     },
     "execution_count": 29,
     "metadata": {},
     "output_type": "execute_result"
    }
   ],
   "source": [
    "lst_a is lst_b "
   ]
  },
  {
   "cell_type": "code",
   "execution_count": 31,
   "id": "cc9c655c-75ed-40b2-ae69-bb29902c2a90",
   "metadata": {},
   "outputs": [],
   "source": [
    "lst_a=[1,2,3,4]\n",
    "lst_b=lst_a"
   ]
  },
  {
   "cell_type": "code",
   "execution_count": 34,
   "id": "6bc9cae8-0dbf-4d20-87c3-a0410096eabe",
   "metadata": {},
   "outputs": [
    {
     "name": "stdout",
     "output_type": "stream",
     "text": [
      "140539319768640\n",
      "140539319768640\n"
     ]
    }
   ],
   "source": [
    "print(id(lst_a))\n",
    "print(id(lst_b))"
   ]
  },
  {
   "cell_type": "code",
   "execution_count": 35,
   "id": "92d7f24a-b94f-4a0a-b5aa-9eebfc7df428",
   "metadata": {},
   "outputs": [
    {
     "data": {
      "text/plain": [
       "True"
      ]
     },
     "execution_count": 35,
     "metadata": {},
     "output_type": "execute_result"
    }
   ],
   "source": [
    "lst_a is lst_b"
   ]
  },
  {
   "cell_type": "code",
   "execution_count": 36,
   "id": "65463395-d7b1-4c1c-a125-8de7f18ae2c2",
   "metadata": {},
   "outputs": [
    {
     "data": {
      "text/plain": [
       "True"
      ]
     },
     "execution_count": 36,
     "metadata": {},
     "output_type": "execute_result"
    }
   ],
   "source": [
    "lst_a==lst_b"
   ]
  },
  {
   "cell_type": "code",
   "execution_count": 37,
   "id": "53264ee5-1a2e-4ba9-a2cf-9e92413b8c6e",
   "metadata": {},
   "outputs": [
    {
     "data": {
      "text/plain": [
       "[1, 2, 3, 4]"
      ]
     },
     "execution_count": 37,
     "metadata": {},
     "output_type": "execute_result"
    }
   ],
   "source": [
    "lst_a"
   ]
  },
  {
   "cell_type": "code",
   "execution_count": 38,
   "id": "fa607b04-0bde-42df-ac6a-733efccf7aab",
   "metadata": {},
   "outputs": [],
   "source": [
    "lst_a[0]=10"
   ]
  },
  {
   "cell_type": "code",
   "execution_count": 39,
   "id": "ac5be8ae-b2f7-4b6a-a548-8a9b1a736350",
   "metadata": {},
   "outputs": [
    {
     "data": {
      "text/plain": [
       "[10, 2, 3, 4]"
      ]
     },
     "execution_count": 39,
     "metadata": {},
     "output_type": "execute_result"
    }
   ],
   "source": [
    "lst_a"
   ]
  },
  {
   "cell_type": "markdown",
   "id": "2e3da779-f397-49dd-8c70-5a1b43b4324d",
   "metadata": {},
   "source": [
    "### List Is Mutable But String Is Immutable"
   ]
  },
  {
   "cell_type": "code",
   "execution_count": 43,
   "id": "2897afac-a227-4e8c-8d2e-4c0f1fd3c536",
   "metadata": {},
   "outputs": [],
   "source": [
    "str1=\"krish\" \n",
    "str2=\"krish1\""
   ]
  },
  {
   "cell_type": "code",
   "execution_count": 45,
   "id": "4dcb962d-4e42-4481-837b-220ffc084020",
   "metadata": {},
   "outputs": [
    {
     "name": "stdout",
     "output_type": "stream",
     "text": [
      "140539319767792\n",
      "140539319765168\n"
     ]
    }
   ],
   "source": [
    "print(id(str1))\n",
    "print(id(str2))"
   ]
  },
  {
   "cell_type": "code",
   "execution_count": 47,
   "id": "fea8766e-43c0-498d-b6c3-5acb5fd3fffa",
   "metadata": {},
   "outputs": [
    {
     "data": {
      "text/plain": [
       "[10, 2, 3, 4]"
      ]
     },
     "execution_count": 47,
     "metadata": {},
     "output_type": "execute_result"
    }
   ],
   "source": [
    "lst_a"
   ]
  },
  {
   "cell_type": "code",
   "execution_count": 48,
   "id": "d0bc8815-e11f-4e71-b9d9-67006e9917b3",
   "metadata": {},
   "outputs": [
    {
     "data": {
      "text/plain": [
       "'krish'"
      ]
     },
     "execution_count": 48,
     "metadata": {},
     "output_type": "execute_result"
    }
   ],
   "source": [
    "str1"
   ]
  },
  {
   "cell_type": "code",
   "execution_count": 51,
   "id": "d1c1db0a-d4a2-414e-b37d-39f8a34ec0d5",
   "metadata": {},
   "outputs": [
    {
     "ename": "TypeError",
     "evalue": "'type' object does not support item assignment",
     "output_type": "error",
     "traceback": [
      "\u001b[0;31m---------------------------------------------------------------------------\u001b[0m",
      "\u001b[0;31mTypeError\u001b[0m                                 Traceback (most recent call last)",
      "Cell \u001b[0;32mIn[51], line 1\u001b[0m\n\u001b[0;32m----> 1\u001b[0m \u001b[38;5;28;43mstr\u001b[39;49m\u001b[43m[\u001b[49m\u001b[38;5;241;43m0\u001b[39;49m\u001b[43m]\u001b[49m\u001b[38;5;241m=\u001b[39m\u001b[38;5;124m'\u001b[39m\u001b[38;5;124mn\u001b[39m\u001b[38;5;124m'\u001b[39m\u001b[38;5;66;03m## immutable\u001b[39;00m\n",
      "\u001b[0;31mTypeError\u001b[0m: 'type' object does not support item assignment"
     ]
    }
   ],
   "source": [
    "str[0]='n'## immutable"
   ]
  },
  {
   "cell_type": "markdown",
   "id": "f306805b-78bc-49af-8d6b-647eb5384f32",
   "metadata": {},
   "source": [
    "### comparison operator \n",
    "\n",
    "<     less than \n",
    "\n",
    "\n",
    "\n",
    "<=    less thsm equal to\n",
    "\n",
    "\n",
    "\n",
    ">    greater than \n",
    "\n",
    "\n",
    "\n",
    ">=    greater thsn equal to"
   ]
  },
  {
   "cell_type": "code",
   "execution_count": 55,
   "id": "56ad2d23-18f0-45ac-ab73-24a62c5613a5",
   "metadata": {},
   "outputs": [
    {
     "name": "stdout",
     "output_type": "stream",
     "text": [
      "bike is faster than car:True\n"
     ]
    }
   ],
   "source": [
    "max_speed_of_bike=150\n",
    "max_speed_of_car=200\n",
    "\n",
    "print(f\"bike is faster than car:{max_speed_of_bike <= max_speed_of_car}\")"
   ]
  },
  {
   "cell_type": "markdown",
   "id": "179af6e7-1723-43ad-98b0-acff98d170c1",
   "metadata": {},
   "source": [
    "## Airthematic Operation\n",
    "\n",
    "+   addition\n",
    "\n",
    "\n",
    "-   subtraction \n",
    "\n",
    "\n",
    "*   multiplication\n",
    "\n",
    "/    divide\n",
    "\n",
    "\n",
    "// integer division\n",
    "\n",
    "\n",
    "%   modulous"
   ]
  },
  {
   "cell_type": "code",
   "execution_count": 56,
   "id": "46c15a9f-3034-4bb5-b9e2-22e8e1aa294d",
   "metadata": {},
   "outputs": [],
   "source": [
    "a=25\n",
    "b=101"
   ]
  },
  {
   "cell_type": "code",
   "execution_count": 57,
   "id": "35dd1045-c156-4b50-b9f7-c605dbbc339a",
   "metadata": {},
   "outputs": [
    {
     "data": {
      "text/plain": [
       "126"
      ]
     },
     "execution_count": 57,
     "metadata": {},
     "output_type": "execute_result"
    }
   ],
   "source": [
    "a+b"
   ]
  },
  {
   "cell_type": "code",
   "execution_count": 58,
   "id": "1634ba0a-27d6-4031-95da-a7d6d67e1b4c",
   "metadata": {},
   "outputs": [
    {
     "data": {
      "text/plain": [
       "2525"
      ]
     },
     "execution_count": 58,
     "metadata": {},
     "output_type": "execute_result"
    }
   ],
   "source": [
    "a*b"
   ]
  },
  {
   "cell_type": "code",
   "execution_count": 59,
   "id": "10c322e7-d42a-436f-bacf-62f3ad216c30",
   "metadata": {},
   "outputs": [
    {
     "data": {
      "text/plain": [
       "0.24752475247524752"
      ]
     },
     "execution_count": 59,
     "metadata": {},
     "output_type": "execute_result"
    }
   ],
   "source": [
    "a/b"
   ]
  },
  {
   "cell_type": "code",
   "execution_count": 60,
   "id": "3db21392-c88e-4af8-ae33-3ce809e56ac1",
   "metadata": {},
   "outputs": [
    {
     "data": {
      "text/plain": [
       "0"
      ]
     },
     "execution_count": 60,
     "metadata": {},
     "output_type": "execute_result"
    }
   ],
   "source": [
    "a//b"
   ]
  },
  {
   "cell_type": "code",
   "execution_count": 61,
   "id": "23dcee76-2c17-4518-8700-5e5186cea12b",
   "metadata": {},
   "outputs": [
    {
     "data": {
      "text/plain": [
       "1"
      ]
     },
     "execution_count": 61,
     "metadata": {},
     "output_type": "execute_result"
    }
   ],
   "source": [
    "b%a"
   ]
  },
  {
   "cell_type": "code",
   "execution_count": 62,
   "id": "261cc7f8-e4bb-4d3a-90ec-7119852120d8",
   "metadata": {},
   "outputs": [
    {
     "data": {
      "text/plain": [
       "25"
      ]
     },
     "execution_count": 62,
     "metadata": {},
     "output_type": "execute_result"
    }
   ],
   "source": [
    "a%b"
   ]
  },
  {
   "cell_type": "markdown",
   "id": "95447fd7-45cd-4f65-b682-6e0657e2d0f6",
   "metadata": {},
   "source": [
    "## Bitwise Operator\n",
    "~  bitwise compliment\n",
    "\n",
    "\n",
    "& bitwise and\n",
    "\n",
    "\n",
    "\n",
    "! bitwise or \n",
    "\n",
    "\n",
    "^ bitwise exclusive or\n",
    "\n",
    "\n",
    "<< left shiffting \n",
    "\n",
    "\n",
    "\n",
    "\n",
    ">> right shiffting\n"
   ]
  },
  {
   "cell_type": "code",
   "execution_count": 63,
   "id": "30ab807c-13e0-41a8-95e0-77cafc02ea74",
   "metadata": {},
   "outputs": [
    {
     "data": {
      "text/plain": [
       "'0b1010'"
      ]
     },
     "execution_count": 63,
     "metadata": {},
     "output_type": "execute_result"
    }
   ],
   "source": [
    "var=10\n",
    "bin(10)"
   ]
  },
  {
   "cell_type": "code",
   "execution_count": 64,
   "id": "854e0237-bfaf-417f-96fa-0b53b45bb8aa",
   "metadata": {},
   "outputs": [
    {
     "data": {
      "text/plain": [
       "-11"
      ]
     },
     "execution_count": 64,
     "metadata": {},
     "output_type": "execute_result"
    }
   ],
   "source": [
    "~var"
   ]
  },
  {
   "cell_type": "markdown",
   "id": "46414487-48b9-4ba7-b407-51a9c0d0a8fb",
   "metadata": {},
   "source": [
    "## STRING"
   ]
  },
  {
   "cell_type": "code",
   "execution_count": 66,
   "id": "d730c63f-778d-44cc-a942-4198f2d0302e",
   "metadata": {},
   "outputs": [
    {
     "data": {
      "text/plain": [
       "'welcome to data science mastser'"
      ]
     },
     "execution_count": 66,
     "metadata": {},
     "output_type": "execute_result"
    }
   ],
   "source": [
    "\"welcome to data science mastser\""
   ]
  },
  {
   "cell_type": "code",
   "execution_count": 68,
   "id": "af6358eb-bc13-4b3b-9197-2705994c41ee",
   "metadata": {},
   "outputs": [],
   "source": [
    "str1= \"welcome to data sceince master\""
   ]
  },
  {
   "cell_type": "code",
   "execution_count": 69,
   "id": "6393f3b2-e5c9-419b-8e2f-9570fac76c74",
   "metadata": {},
   "outputs": [
    {
     "data": {
      "text/plain": [
       "str"
      ]
     },
     "execution_count": 69,
     "metadata": {},
     "output_type": "execute_result"
    }
   ],
   "source": [
    "type(str1)"
   ]
  },
  {
   "cell_type": "code",
   "execution_count": 72,
   "id": "dcf1e16a-00ea-4ccf-b5d6-fc7065203402",
   "metadata": {},
   "outputs": [
    {
     "ename": "TypeError",
     "evalue": "'str' object does not support item assignment",
     "output_type": "error",
     "traceback": [
      "\u001b[0;31m---------------------------------------------------------------------------\u001b[0m",
      "\u001b[0;31mTypeError\u001b[0m                                 Traceback (most recent call last)",
      "Cell \u001b[0;32mIn[72], line 1\u001b[0m\n\u001b[0;32m----> 1\u001b[0m \u001b[43mstr1\u001b[49m\u001b[43m[\u001b[49m\u001b[38;5;241;43m0\u001b[39;49m\u001b[43m]\u001b[49m\u001b[38;5;241m=\u001b[39m\u001b[38;5;241m12\u001b[39m\n",
      "\u001b[0;31mTypeError\u001b[0m: 'str' object does not support item assignment"
     ]
    }
   ],
   "source": [
    "immutable\n",
    "str1[0]=12"
   ]
  },
  {
   "cell_type": "code",
   "execution_count": 73,
   "id": "c829aebb-594d-4142-9114-f2f6bf28acff",
   "metadata": {},
   "outputs": [],
   "source": [
    "str1=\"pw skills data science\""
   ]
  },
  {
   "cell_type": "code",
   "execution_count": 77,
   "id": "3336fb34-5e24-4589-b789-f1d3f9a2f133",
   "metadata": {},
   "outputs": [
    {
     "data": {
      "text/plain": [
       "'i'"
      ]
     },
     "execution_count": 77,
     "metadata": {},
     "output_type": "execute_result"
    }
   ],
   "source": [
    "str1[5]"
   ]
  },
  {
   "cell_type": "code",
   "execution_count": 80,
   "id": "3bb15bd6-d40d-4466-ac42-350e58cbef7c",
   "metadata": {},
   "outputs": [
    {
     "data": {
      "text/plain": [
       "'ills data science'"
      ]
     },
     "execution_count": 80,
     "metadata": {},
     "output_type": "execute_result"
    }
   ],
   "source": [
    "## slice operation\n",
    "str1[5:]"
   ]
  },
  {
   "cell_type": "code",
   "execution_count": 81,
   "id": "59853b1b-be3c-4f7c-9cee-56089c49a509",
   "metadata": {},
   "outputs": [
    {
     "data": {
      "text/plain": [
       "'ills d'"
      ]
     },
     "execution_count": 81,
     "metadata": {},
     "output_type": "execute_result"
    }
   ],
   "source": [
    "str1[5:11]"
   ]
  },
  {
   "cell_type": "code",
   "execution_count": 82,
   "id": "3a6b0583-26e0-4260-8ec1-b4769b9551bf",
   "metadata": {},
   "outputs": [
    {
     "data": {
      "text/plain": [
       "'e'"
      ]
     },
     "execution_count": 82,
     "metadata": {},
     "output_type": "execute_result"
    }
   ],
   "source": [
    "str1[-1]"
   ]
  },
  {
   "cell_type": "code",
   "execution_count": 84,
   "id": "3f99099c-a3d0-4f29-941e-bb28f7d29bfb",
   "metadata": {},
   "outputs": [
    {
     "data": {
      "text/plain": [
       "'nce'"
      ]
     },
     "execution_count": 84,
     "metadata": {},
     "output_type": "execute_result"
    }
   ],
   "source": [
    "str1[-3:]"
   ]
  },
  {
   "cell_type": "code",
   "execution_count": 85,
   "id": "bd1e053c-343a-4f1e-843d-c9a10951d3fb",
   "metadata": {},
   "outputs": [
    {
     "data": {
      "text/plain": [
       "'scie'"
      ]
     },
     "execution_count": 85,
     "metadata": {},
     "output_type": "execute_result"
    }
   ],
   "source": [
    "str1[-7:-3]"
   ]
  },
  {
   "cell_type": "code",
   "execution_count": 86,
   "id": "52a00aad-d070-4daa-b404-99a0e0b43931",
   "metadata": {},
   "outputs": [
    {
     "data": {
      "text/plain": [
       "'pw skills data scienc'"
      ]
     },
     "execution_count": 86,
     "metadata": {},
     "output_type": "execute_result"
    }
   ],
   "source": [
    "str1[:-1]"
   ]
  },
  {
   "cell_type": "code",
   "execution_count": 89,
   "id": "9942edc2-cc44-4a11-b524-e2dbc40a8ec9",
   "metadata": {},
   "outputs": [
    {
     "data": {
      "text/plain": [
       "'pw skills data'"
      ]
     },
     "execution_count": 89,
     "metadata": {},
     "output_type": "execute_result"
    }
   ],
   "source": [
    "str1[:-8]"
   ]
  },
  {
   "cell_type": "code",
   "execution_count": 90,
   "id": "6fd84502-7453-4b46-b673-736c8cb5b00c",
   "metadata": {},
   "outputs": [],
   "source": [
    "name=\"krish\""
   ]
  },
  {
   "cell_type": "code",
   "execution_count": 91,
   "id": "e3e96bc7-2afc-47ab-8a8e-cbb05d674b0a",
   "metadata": {},
   "outputs": [
    {
     "data": {
      "text/plain": [
       "'kris'"
      ]
     },
     "execution_count": 91,
     "metadata": {},
     "output_type": "execute_result"
    }
   ],
   "source": [
    "name[-5:4]"
   ]
  },
  {
   "cell_type": "code",
   "execution_count": 92,
   "id": "3d4d7577-00d6-46a9-8643-c1daa5f444e9",
   "metadata": {},
   "outputs": [],
   "source": [
    "str2=\"pw skliis data science\""
   ]
  },
  {
   "cell_type": "code",
   "execution_count": 93,
   "id": "1dacf2f1-6b75-4199-a766-0b4c8dc1c63c",
   "metadata": {},
   "outputs": [
    {
     "data": {
      "text/plain": [
       "'ecneics atad siilks wp'"
      ]
     },
     "execution_count": 93,
     "metadata": {},
     "output_type": "execute_result"
    }
   ],
   "source": [
    "str2[::-1]"
   ]
  },
  {
   "cell_type": "code",
   "execution_count": 94,
   "id": "68adc6e4-46a7-4847-bf00-098d77b1bf1b",
   "metadata": {},
   "outputs": [
    {
     "data": {
      "text/plain": [
       "'enisaa ilsw'"
      ]
     },
     "execution_count": 94,
     "metadata": {},
     "output_type": "execute_result"
    }
   ],
   "source": [
    "str2[::-2]"
   ]
  },
  {
   "cell_type": "code",
   "execution_count": 101,
   "id": "c4e7d003-e180-4416-880d-231c2b68a524",
   "metadata": {},
   "outputs": [],
   "source": [
    "course_name=\"data science master\""
   ]
  },
  {
   "cell_type": "code",
   "execution_count": 103,
   "id": "26d95d5d-7413-41cf-968c-ab802a0bc64c",
   "metadata": {},
   "outputs": [
    {
     "data": {
      "text/plain": [
       "''"
      ]
     },
     "execution_count": 103,
     "metadata": {},
     "output_type": "execute_result"
    }
   ],
   "source": [
    "course_name[5:12:-1]"
   ]
  },
  {
   "cell_type": "code",
   "execution_count": 104,
   "id": "2e0a4cbc-1ccc-451d-a567-b132d62b35f0",
   "metadata": {},
   "outputs": [
    {
     "data": {
      "text/plain": [
       "' ecneic'"
      ]
     },
     "execution_count": 104,
     "metadata": {},
     "output_type": "execute_result"
    }
   ],
   "source": [
    "course_name[12:5:-1]"
   ]
  },
  {
   "cell_type": "code",
   "execution_count": 1,
   "id": "69f76a35-d5aa-49ac-bb8b-c46dd1e55a5e",
   "metadata": {},
   "outputs": [],
   "source": [
    "punjab_uni=\"sahil is pursuing btech\""
   ]
  },
  {
   "cell_type": "code",
   "execution_count": 7,
   "id": "1d011fd4-ffe1-43e3-961b-1b7bff257a96",
   "metadata": {},
   "outputs": [
    {
     "data": {
      "text/plain": [
       "'hcetb gniusrup si lihas'"
      ]
     },
     "execution_count": 7,
     "metadata": {},
     "output_type": "execute_result"
    }
   ],
   "source": [
    "punjab_uni[::-1]"
   ]
  },
  {
   "cell_type": "code",
   "execution_count": 10,
   "id": "91009c98-9745-408e-874e-670560f441ca",
   "metadata": {},
   "outputs": [
    {
     "name": "stdout",
     "output_type": "stream",
     "text": [
      "helloworld\n"
     ]
    }
   ],
   "source": [
    "print(\"hello\" + \"world\")"
   ]
  },
  {
   "cell_type": "code",
   "execution_count": 14,
   "id": "b533cf04-80e3-4cf0-96d3-8774adf4ca92",
   "metadata": {},
   "outputs": [
    {
     "ename": "NameError",
     "evalue": "name 'course_name' is not defined",
     "output_type": "error",
     "traceback": [
      "\u001b[0;31m---------------------------------------------------------------------------\u001b[0m",
      "\u001b[0;31mNameError\u001b[0m                                 Traceback (most recent call last)",
      "Cell \u001b[0;32mIn[14], line 1\u001b[0m\n\u001b[0;32m----> 1\u001b[0m \u001b[38;5;28mlen\u001b[39m(\u001b[43mcourse_name\u001b[49m)\n",
      "\u001b[0;31mNameError\u001b[0m: name 'course_name' is not defined"
     ]
    }
   ],
   "source": [
    "len(course_name)"
   ]
  },
  {
   "cell_type": "code",
   "execution_count": 7,
   "id": "df544244-691d-4f40-bb20-d1eb7f39e4a3",
   "metadata": {},
   "outputs": [],
   "source": [
    "course_name=\"data science master\""
   ]
  },
  {
   "cell_type": "code",
   "execution_count": 8,
   "id": "a726b89d-1442-4279-b7dc-43403a26d072",
   "metadata": {},
   "outputs": [
    {
     "data": {
      "text/plain": [
       "19"
      ]
     },
     "execution_count": 8,
     "metadata": {},
     "output_type": "execute_result"
    }
   ],
   "source": [
    "len(course_name)"
   ]
  },
  {
   "cell_type": "code",
   "execution_count": 9,
   "id": "2b2bd5b9-f34f-46b7-96dc-90051d9aab8f",
   "metadata": {},
   "outputs": [
    {
     "data": {
      "text/plain": [
       "3"
      ]
     },
     "execution_count": 9,
     "metadata": {},
     "output_type": "execute_result"
    }
   ],
   "source": [
    "##find function\n",
    "course_name.find(\"a\",2,10)"
   ]
  },
  {
   "cell_type": "code",
   "execution_count": 12,
   "id": "eed306c4-14c9-4878-82d2-d80edd9431e2",
   "metadata": {},
   "outputs": [],
   "source": [
    "##count ()"
   ]
  },
  {
   "cell_type": "code",
   "execution_count": 13,
   "id": "653abc35-4061-490c-b7d4-7f60c2e157e4",
   "metadata": {},
   "outputs": [
    {
     "data": {
      "text/plain": [
       "3"
      ]
     },
     "execution_count": 13,
     "metadata": {},
     "output_type": "execute_result"
    }
   ],
   "source": [
    "course_name.count(\"a\")"
   ]
  },
  {
   "cell_type": "code",
   "execution_count": 16,
   "id": "0f30374a-50e1-4197-b61e-066c2ba9c336",
   "metadata": {},
   "outputs": [
    {
     "data": {
      "text/plain": [
       "20"
      ]
     },
     "execution_count": 16,
     "metadata": {},
     "output_type": "execute_result"
    }
   ],
   "source": [
    "course_name.count(\"\")"
   ]
  },
  {
   "cell_type": "code",
   "execution_count": 17,
   "id": "3f4209f7-3011-4149-a5bd-384f3602e234",
   "metadata": {},
   "outputs": [],
   "source": [
    "## string split function"
   ]
  },
  {
   "cell_type": "code",
   "execution_count": 18,
   "id": "23cfbe86-30ac-4799-8078-aaf7af213aff",
   "metadata": {},
   "outputs": [
    {
     "data": {
      "text/plain": [
       "['data', 'science', 'master']"
      ]
     },
     "execution_count": 18,
     "metadata": {},
     "output_type": "execute_result"
    }
   ],
   "source": [
    "course_name.split(\" \")"
   ]
  },
  {
   "cell_type": "code",
   "execution_count": 28,
   "id": "cc2c5a16-7064-40a9-a40d-fd6658d9c0ba",
   "metadata": {},
   "outputs": [
    {
     "data": {
      "text/plain": [
       "['data ', 'cience ma', 'ter']"
      ]
     },
     "execution_count": 28,
     "metadata": {},
     "output_type": "execute_result"
    }
   ],
   "source": [
    "course_name.split('s')"
   ]
  },
  {
   "cell_type": "code",
   "execution_count": 27,
   "id": "f20cf032-8338-4c5a-82ec-9a37a1d0bdc6",
   "metadata": {},
   "outputs": [
    {
     "data": {
      "text/plain": [
       "('data ', 's', 'cience master')"
      ]
     },
     "execution_count": 27,
     "metadata": {},
     "output_type": "execute_result"
    }
   ],
   "source": [
    "course_name.partition(\"s\")"
   ]
  },
  {
   "cell_type": "code",
   "execution_count": 29,
   "id": "3033b2fc-19d1-4d87-8174-11eb2ec1c764",
   "metadata": {},
   "outputs": [],
   "source": [
    "##string upper and lowwer case"
   ]
  },
  {
   "cell_type": "code",
   "execution_count": 30,
   "id": "539de8c8-730b-4d52-b681-34bca7d354e4",
   "metadata": {},
   "outputs": [
    {
     "data": {
      "text/plain": [
       "'DATA SCIENCE MASTER'"
      ]
     },
     "execution_count": 30,
     "metadata": {},
     "output_type": "execute_result"
    }
   ],
   "source": [
    "course_name.upper()"
   ]
  },
  {
   "cell_type": "code",
   "execution_count": 31,
   "id": "9c06c132-b4c5-4703-a292-e66b4321225f",
   "metadata": {},
   "outputs": [
    {
     "data": {
      "text/plain": [
       "'data science master'"
      ]
     },
     "execution_count": 31,
     "metadata": {},
     "output_type": "execute_result"
    }
   ],
   "source": [
    "course_name.lower()"
   ]
  },
  {
   "cell_type": "code",
   "execution_count": 33,
   "id": "6c849a85-2a1b-46df-bd2a-c667c6c392ff",
   "metadata": {},
   "outputs": [
    {
     "data": {
      "text/plain": [
       "'DATA SCIENCE MASTER'"
      ]
     },
     "execution_count": 33,
     "metadata": {},
     "output_type": "execute_result"
    }
   ],
   "source": [
    "##swapcase"
   ]
  },
  {
   "cell_type": "code",
   "execution_count": 40,
   "id": "9792b3ed-7892-44ca-9e23-74fc4a927704",
   "metadata": {},
   "outputs": [
    {
     "data": {
      "text/plain": [
       "'DATA SCIENCE MASTER'"
      ]
     },
     "execution_count": 40,
     "metadata": {},
     "output_type": "execute_result"
    }
   ],
   "source": [
    "course_name.swapcase()"
   ]
  },
  {
   "cell_type": "code",
   "execution_count": 38,
   "id": "40d0324c-033f-49ca-9759-35b91c23dc44",
   "metadata": {},
   "outputs": [],
   "source": [
    "name=\"sahil singh\""
   ]
  },
  {
   "cell_type": "code",
   "execution_count": 39,
   "id": "bd34830b-fd0f-496a-b750-3354996d53a4",
   "metadata": {},
   "outputs": [
    {
     "data": {
      "text/plain": [
       "'Sahil Singh'"
      ]
     },
     "execution_count": 39,
     "metadata": {},
     "output_type": "execute_result"
    }
   ],
   "source": [
    "name.title()"
   ]
  },
  {
   "cell_type": "code",
   "execution_count": 41,
   "id": "320993ff-719c-4408-8f80-cf9def687d90",
   "metadata": {},
   "outputs": [],
   "source": [
    "## assginment question"
   ]
  },
  {
   "cell_type": "code",
   "execution_count": 46,
   "id": "89204016-f4f0-42c1-8812-c7df7e0c1d97",
   "metadata": {},
   "outputs": [
    {
     "name": "stdin",
     "output_type": "stream",
     "text": [
      "enter the length of the triangle 7\n"
     ]
    },
    {
     "name": "stdout",
     "output_type": "stream",
     "text": [
      "       *\n",
      "      **\n",
      "     ****\n",
      "    ******\n",
      "   ********\n",
      "  **********\n",
      " ************\n"
     ]
    }
   ],
   "source": [
    "size=int(input(\"enter the length of the triangle\"))\n",
    "for i in range (size):\n",
    "         for j in range (size-i):\n",
    "             print(\"\",end= \" \")\n",
    "         for k in range(i+1):\n",
    "             print(\"*\",end=\"\")\n",
    "         for m in range(k-1):\n",
    "             print(\"*\",end=\"\")\n",
    "         print()"
   ]
  },
  {
   "cell_type": "code",
   "execution_count": null,
   "id": "1848b526-0eb0-46a0-90bd-e07a79519278",
   "metadata": {},
   "outputs": [],
   "source": []
  }
 ],
 "metadata": {
  "kernelspec": {
   "display_name": "Python 3 (ipykernel)",
   "language": "python",
   "name": "python3"
  },
  "language_info": {
   "codemirror_mode": {
    "name": "ipython",
    "version": 3
   },
   "file_extension": ".py",
   "mimetype": "text/x-python",
   "name": "python",
   "nbconvert_exporter": "python",
   "pygments_lexer": "ipython3",
   "version": "3.10.8"
  }
 },
 "nbformat": 4,
 "nbformat_minor": 5
}
