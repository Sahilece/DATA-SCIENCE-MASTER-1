{
 "cells": [
  {
   "cell_type": "code",
   "execution_count": null,
   "id": "93734bb1-f8ea-4b75-aa8c-a4473eb32f30",
   "metadata": {},
   "outputs": [],
   "source": [
    "##mall -input the product price\n",
    "##product>1000 rs 20% off\n",
    "##print the product price after removing the discount\n",
    "##product <=1000 rs 30% off\n",
    "##print the product price after removing the discount"
   ]
  },
  {
   "cell_type": "code",
   "execution_count": 1,
   "id": "8e65d7d0-d22d-4f2b-aafd-8c73ccdb6559",
   "metadata": {},
   "outputs": [
    {
     "name": "stdin",
     "output_type": "stream",
     "text": [
      "enter the price 3456\n"
     ]
    },
    {
     "name": "stdout",
     "output_type": "stream",
     "text": [
      "the price of the product is 2764.8\n"
     ]
    }
   ],
   "source": [
    "product_price=int(input(\"enter the price\"))\n",
    "if product_price>1000:\n",
    "    print(\"the price of the product is {}\".format(product_price*0.8))\n",
    "else:\n",
    "    print(\"the price of the product is {}\".format(product_price*0.7))"
   ]
  },
  {
   "cell_type": "code",
   "execution_count": 8,
   "id": "733a192d-e024-4c51-9b82-f85668109055",
   "metadata": {},
   "outputs": [
    {
     "name": "stdin",
     "output_type": "stream",
     "text": [
      "enter the price 10\n"
     ]
    },
    {
     "name": "stdout",
     "output_type": "stream",
     "text": [
      "the price of the product is 7.0\n"
     ]
    }
   ],
   "source": [
    "product_price=int(input(\"enter the price\"))\n",
    "if product_price>1000:\n",
    "    print(\"the price of the product is {}\".format(product_price*0.8))\n",
    "else:\n",
    "    print(\"the price of the product is {}\".format(product_price*0.7))"
   ]
  },
  {
   "cell_type": "code",
   "execution_count": 7,
   "id": "b76f7fce-b64f-4949-a7c6-13b771fa60db",
   "metadata": {},
   "outputs": [
    {
     "name": "stdin",
     "output_type": "stream",
     "text": [
      "enter the age  34\n"
     ]
    },
    {
     "name": "stdout",
     "output_type": "stream",
     "text": [
      "you are the young blood \n"
     ]
    }
   ],
   "source": [
    "age =int(input(\"enter the age \"))\n",
    "if age>=18 and age <=45:\n",
    "    print(\"you are the young blood \")\n",
    "else:\n",
    "    print(\"thank you we will let you know\")"
   ]
  },
  {
   "cell_type": "code",
   "execution_count": 12,
   "id": "a6f9b2a6-6390-43ec-84f7-d671cddcb8e6",
   "metadata": {},
   "outputs": [
    {
     "ename": "SyntaxError",
     "evalue": "f-string: invalid syntax. Perhaps you forgot a comma? (1197665149.py, line 3)",
     "output_type": "error",
     "traceback": [
      "\u001b[0;36m  Cell \u001b[0;32mIn[12], line 3\u001b[0;36m\u001b[0m\n\u001b[0;31m    print(f\"price of the product is{product_price*O.8}\")\u001b[0m\n\u001b[0m    ^\u001b[0m\n\u001b[0;31mSyntaxError\u001b[0m\u001b[0;31m:\u001b[0m f-string: invalid syntax. Perhaps you forgot a comma?\n"
     ]
    }
   ],
   "source": [
    "product_price=int(input(\"enter the price\"))\n",
    "if product_price>3000:\n",
    "    print(f\"price of the product is{product_price*O.8}\")\n",
    "elif product_price>=2000 and product price<=3000:\n",
    "    print(f\"price of the product is {product_price*0.7}\")\n",
    "else :\n",
    "    print(\"price of the product is{}\".format(product_price*0.6))\n",
    "    "
   ]
  },
  {
   "cell_type": "code",
   "execution_count": 19,
   "id": "bdc5aff7-2e65-44c5-86a1-d2538547ae4f",
   "metadata": {},
   "outputs": [
    {
     "name": "stdin",
     "output_type": "stream",
     "text": [
      "enter the number 1000\n"
     ]
    },
    {
     "name": "stdout",
     "output_type": "stream",
     "text": [
      "go home\n"
     ]
    }
   ],
   "source": [
    "##single statment \n",
    "val=int(input('enter the number'))\n",
    "if(val<=999):print(\"value is less than equal to 999\")\n",
    "else:\n",
    "    print(\"go home\")"
   ]
  },
  {
   "cell_type": "code",
   "execution_count": null,
   "id": "efd040d4-55c2-4c5d-be67-7854adb7ce97",
   "metadata": {},
   "outputs": [],
   "source": []
  }
 ],
 "metadata": {
  "kernelspec": {
   "display_name": "Python 3 (ipykernel)",
   "language": "python",
   "name": "python3"
  },
  "language_info": {
   "codemirror_mode": {
    "name": "ipython",
    "version": 3
   },
   "file_extension": ".py",
   "mimetype": "text/x-python",
   "name": "python",
   "nbconvert_exporter": "python",
   "pygments_lexer": "ipython3",
   "version": "3.10.8"
  }
 },
 "nbformat": 4,
 "nbformat_minor": 5
}
